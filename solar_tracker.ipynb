{
 "metadata": {
  "name": "",
  "signature": "sha256:2256e49508d359c51a7ada328c065b0c5a5a500c006d741e3beb129efcac69a0"
 },
 "nbformat": 3,
 "nbformat_minor": 0,
 "worksheets": [
  {
   "cells": [
    {
     "cell_type": "code",
     "collapsed": false,
     "input": [
      "import ephem\n",
      "import datetime, time\n",
      "import numpy as np\n",
      "\n",
      "radtodeg = 180.0/np.pi\n",
      "degtorad = np.pi/180.0\n",
      "\n",
      "lighthouse = ephem.Observer()\n",
      "lighthouse.lat = '36.9'\n",
      "lighthouse.lon = '-75.7'\n",
      "\n",
      "def sun_location():\n",
      "    lighthouse.date = datetime.datetime.utcnow()\n",
      "    sun = ephem.Sun(lighthouse)\n",
      "\n",
      "    az, alt, dec = sun.az, sun.alt, sun.dec\n",
      "    print(az, alt, dec)\n",
      "\n",
      "try:\n",
      "    while True:\n",
      "        sun_location()\n",
      "        time.sleep(1)\n",
      "except KeyboardInterrupt:\n",
      "    print('Exiting')"
     ],
     "language": "python",
     "metadata": {},
     "outputs": [
      {
       "output_type": "stream",
       "stream": "stdout",
       "text": [
        "135:58:01.5 39:49:11.6 -3:17:17.5\n",
        "135:58:17.7"
       ]
      },
      {
       "output_type": "stream",
       "stream": "stdout",
       "text": [
        " 39:49:20.0 -3:17:17.5\n",
        "135:58:33.9"
       ]
      },
      {
       "output_type": "stream",
       "stream": "stdout",
       "text": [
        " 39:49:28.3 -3:17:17.5\n",
        "135:58:50.1"
       ]
      },
      {
       "output_type": "stream",
       "stream": "stdout",
       "text": [
        " 39:49:36.7 -3:17:17.4\n",
        "135:59:06.3"
       ]
      },
      {
       "output_type": "stream",
       "stream": "stdout",
       "text": [
        " 39:49:45.1 -3:17:17.4\n",
        "135:59:22.6"
       ]
      },
      {
       "output_type": "stream",
       "stream": "stdout",
       "text": [
        " 39:49:53.4 -3:17:17.4\n",
        "135:59:38.7"
       ]
      },
      {
       "output_type": "stream",
       "stream": "stdout",
       "text": [
        " 39:50:01.8 -3:17:17.4\n",
        "135:59:55.0"
       ]
      },
      {
       "output_type": "stream",
       "stream": "stdout",
       "text": [
        " 39:50:10.1 -3:17:17.4\n",
        "136:00:11.2"
       ]
      },
      {
       "output_type": "stream",
       "stream": "stdout",
       "text": [
        " 39:50:18.5 -3:17:17.4\n",
        "136:00:27.4"
       ]
      },
      {
       "output_type": "stream",
       "stream": "stdout",
       "text": [
        " 39:50:26.8 -3:17:17.4\n",
        "136:00:43.6"
       ]
      },
      {
       "output_type": "stream",
       "stream": "stdout",
       "text": [
        " 39:50:35.2 -3:17:17.3\n",
        "136:00:59.8"
       ]
      },
      {
       "output_type": "stream",
       "stream": "stdout",
       "text": [
        " 39:50:43.6 -3:17:17.3\n",
        "Exiting"
       ]
      },
      {
       "output_type": "stream",
       "stream": "stdout",
       "text": [
        "\n"
       ]
      }
     ],
     "prompt_number": 1
    },
    {
     "cell_type": "code",
     "collapsed": false,
     "input": [],
     "language": "python",
     "metadata": {},
     "outputs": []
    }
   ],
   "metadata": {}
  }
 ]
}
